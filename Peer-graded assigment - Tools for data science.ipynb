{
    "cells": [
        {
            "cell_type": "markdown",
            "metadata": {},
            "source": "<center>\n    <img src=\"https://s3-api.us-geo.objectstorage.softlayer.net/cf-courses-data/CognitiveClass/Logos/organization_logo/organization_logo.png\" width=\"300\" alt=\"cognitiveclass.ai logo\"  />\n</center>"
        },
        {
            "cell_type": "markdown",
            "metadata": {
                "collapsed": true
            },
            "source": "# My Jupyter Notebook on IBM Watson Studio"
        },
        {
            "cell_type": "markdown",
            "metadata": {},
            "source": "**Luciano Peres**\n\nData & Systems Supervisor"
        },
        {
            "cell_type": "markdown",
            "metadata": {},
            "source": "*I am interested in data science because I want to expand the data analysis capabilities in my organization.*"
        },
        {
            "cell_type": "markdown",
            "metadata": {},
            "source": "### The following code executes a math operation and displays the result"
        },
        {
            "cell_type": "code",
            "execution_count": 6,
            "metadata": {},
            "outputs": [
                {
                    "data": {
                        "text/plain": "10256"
                    },
                    "execution_count": 6,
                    "metadata": {},
                    "output_type": "execute_result"
                }
            ],
            "source": "16**2 + 10000"
        },
        {
            "cell_type": "markdown",
            "metadata": {},
            "source": "---\n1. orange\n2. apple\n3. banana\n\n* orange\n* apple\n* banana\n\nId | Fruit | Price (USD)\n--- | --- | ---\n0 | orange | 0.50\n1 | apple | 0.40\n2 | banana | 0.80\n\n\nhttps://www.linkedin.com/in/lucianocperes/\n\n> Ipsis Litteris Ipsis Litteris Ipsis Litteris Ipsis Litteris Ipsis Litteris Ipsis Litteris Ipsis Litteris Ipsis Litteris Ipsis Litteris Ipsis Litteris Ipsis Litteris Ipsis Litteris Ipsis Litteris Ipsis Litteris Ipsis Litteris Ipsis Litteris Ipsis Litteris Ipsis Litteris Ipsis Litteris Ipsis Litteris Ipsis Litteris Ipsis Litteris Ipsis Litteris Ipsis Litteris Ipsis Litteris Ipsis Litteris Ipsis Litteris Ipsis Litteris Ipsis Litteris Ipsis Litteris Ipsis Litteris Ipsis Litteris Ipsis Litteris Ipsis LitterisIpsis Litteris Ipsis Litteris Ipsis Litteris Ipsis Litteris Ipsis Litteris Ipsis Litteris Ipsis Litteris."
        },
        {
            "cell_type": "code",
            "execution_count": null,
            "metadata": {},
            "outputs": [],
            "source": ""
        }
    ],
    "metadata": {
        "kernelspec": {
            "display_name": "Python 3.9",
            "language": "python",
            "name": "python3"
        },
        "language_info": {
            "codemirror_mode": {
                "name": "ipython",
                "version": 3
            },
            "file_extension": ".py",
            "mimetype": "text/x-python",
            "name": "python",
            "nbconvert_exporter": "python",
            "pygments_lexer": "ipython3",
            "version": "3.9.12"
        }
    },
    "nbformat": 4,
    "nbformat_minor": 1
}